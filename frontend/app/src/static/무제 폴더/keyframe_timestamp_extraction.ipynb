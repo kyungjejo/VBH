{
 "cells": [
  {
   "cell_type": "code",
   "execution_count": 1,
   "metadata": {
    "collapsed": false,
    "deletable": true,
    "editable": true
   },
   "outputs": [],
   "source": [
    "import re\n",
    "import os\n",
    "\n",
    "\n",
    "\n",
    "for filename in os.listdir(\".\"):\n",
    "    timestamps = []\n",
    "    if filename.endswith(\".txt\"):\n",
    "        with open(filename, 'r') as f:\n",
    "#            print filename         \n",
    "            for line in f:\n",
    "                if re.search('pts_time\\:\\d*\\.\\d*', line):\n",
    "                    timestamps.append(re.search('pts_time\\:\\d*\\.\\d*', line).group(0)[9:])\n",
    "#        print timestamps\n",
    "#        print filename[:-18]\n",
    "        for imagefile, stamp in zip(sorted(os.listdir(filename[:-18])), timestamps):\n",
    "#            print imagefile\n",
    "            os.rename(filename[:-18]+\"/\"+imagefile, filename[:-18]+\"/\"+stamp+'.png')\n"
   ]
  },
  {
   "cell_type": "code",
   "execution_count": null,
   "metadata": {
    "collapsed": true,
    "deletable": true,
    "editable": true
   },
   "outputs": [],
   "source": []
  }
 ],
 "metadata": {
  "kernelspec": {
   "display_name": "Python 2",
   "language": "python",
   "name": "python2"
  },
  "language_info": {
   "codemirror_mode": {
    "name": "ipython",
    "version": 2
   },
   "file_extension": ".py",
   "mimetype": "text/x-python",
   "name": "python",
   "nbconvert_exporter": "python",
   "pygments_lexer": "ipython2",
   "version": "2.7.13"
  }
 },
 "nbformat": 4,
 "nbformat_minor": 2
}
